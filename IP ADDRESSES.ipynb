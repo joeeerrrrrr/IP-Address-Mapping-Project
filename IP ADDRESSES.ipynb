{
 "cells": [
  {
   "cell_type": "code",
   "execution_count": 1,
   "metadata": {
    "collapsed": false
   },
   "outputs": [],
   "source": [
    "import requests\n",
    "import re\n",
    "from geoip import geolite2\n",
    "import json\n",
    "import pandas as pd"
   ]
  },
  {
   "cell_type": "code",
   "execution_count": 2,
   "metadata": {
    "collapsed": false
   },
   "outputs": [
    {
     "data": {
      "text/plain": [
       "'141.136.221.189.dsl.iskon.hr:1024,32.209.44.18:35251,she1335976.lnk.telstra.net:49483,206.174.247.36.ips.direcpath.com:12108'"
      ]
     },
     "execution_count": 2,
     "metadata": {},
     "output_type": "execute_result"
    }
   ],
   "source": [
    "addresses = '141-136-221-189.dsl.iskon.hr:1024,32.209.44.18:35251,she1335976.lnk.telstra.net:49483,206-174-247-36.ips.direcpath.com:12108'\n",
    "addresses = addresses.replace('-','.')\n",
    "addresses"
   ]
  },
  {
   "cell_type": "code",
   "execution_count": 3,
   "metadata": {
    "collapsed": false
   },
   "outputs": [
    {
     "data": {
      "text/plain": [
       "['141.136.221.189', '32.209.44.18', '206.174.247.36']"
      ]
     },
     "execution_count": 3,
     "metadata": {},
     "output_type": "execute_result"
    }
   ],
   "source": [
    "ip = (re.findall(r'\\b\\d{1,3}\\.\\d{1,3}\\.\\d{1,3}\\.\\d{1,3}\\b',addresses))\n",
    "illip = (re.findall(r'\\b\\d{1,3}\\-\\d{1,3}\\-\\d{1,3}\\-\\d{1,3}\\b',addresses))\n",
    "iplist = ip + illip\n",
    "\n",
    "iplist"
   ]
  },
  {
   "cell_type": "code",
   "execution_count": 4,
   "metadata": {
    "collapsed": false
   },
   "outputs": [
    {
     "data": {
      "text/plain": [
       "[{'city': '',\n",
       "  'country': 'HR',\n",
       "  'hostname': '141-136-221-189.dsl.iskon.hr',\n",
       "  'ip': '141.136.221.189',\n",
       "  'loc': '45.1667,15.5000',\n",
       "  'org': 'AS13046 ISKON INTERNET d.d. za informatiku i telekomunikacije',\n",
       "  'region': ''},\n",
       " {'city': 'Shelton',\n",
       "  'country': 'US',\n",
       "  'hostname': 'No Hostname',\n",
       "  'ip': '32.209.44.18',\n",
       "  'loc': '41.3158,-73.1354',\n",
       "  'org': 'AS46690 Southern New England Telephone Company and SNET America, Inc.',\n",
       "  'postal': '06484',\n",
       "  'region': 'Connecticut'},\n",
       " {'city': 'Houston',\n",
       "  'country': 'US',\n",
       "  'hostname': 'z206-174-247-36.ips.direcpath.com',\n",
       "  'ip': '206.174.247.36',\n",
       "  'loc': '29.7510,-95.6130',\n",
       "  'org': 'AS31939 DirecPath, LLC',\n",
       "  'postal': '77077',\n",
       "  'region': 'Texas'}]"
      ]
     },
     "execution_count": 4,
     "metadata": {},
     "output_type": "execute_result"
    }
   ],
   "source": [
    "jsonlist = []\n",
    "for x in iplist:\n",
    "    r = requests.get('http://ipinfo.io/' + x)\n",
    "    json = r.json()\n",
    "    jsonlist.append(json)\n",
    "        \n",
    "jsonlist"
   ]
  },
  {
   "cell_type": "code",
   "execution_count": 5,
   "metadata": {
    "collapsed": true
   },
   "outputs": [],
   "source": [
    "deafheaven = \"\"\"customer-ZRA-56-121.megared.net.mx:43962\n",
    "c-73-174-7-63.hsd1.pa.comcast.net:27591\n",
    "pc-126-209-163-190.cm.vtr.net:17162, \n",
    "186-59-149-134.speedy.com.ar:44822 \n",
    "modemcable175.17-19-135.mc.videotron.ca:6881 \n",
    "ip24-251-235-236.ph.ph.cox.net:6881\n",
    "104.238.169.33:47442\n",
    "nor75-8-81-57-97-95.fbx.proxad.net:33095\n",
    "123.121.51.114:37397\n",
    "190.142.98.27:27809\n",
    "82-181-108-133.bb.dnainternet.fi:42149\n",
    "60-240-117-114.tpgi.com.au:31077\n",
    "athedsl-309031.home.otenet.gr:58687\n",
    "190.156.9.212:55513\n",
    "pool-98-108-202-147.snloca.dsl-w.verizon.net:59389\n",
    "CPE84948c9adcf1-CM84948c9adcf0.cpe.net.cable.rogers.com:43463\n",
    "Dynamic-IP-181500104175.cable.net.co:54622\"\"\"\n",
    "\n",
    "deafheaven = deafheaven.replace('-','.')"
   ]
  },
  {
   "cell_type": "code",
   "execution_count": 6,
   "metadata": {
    "collapsed": true
   },
   "outputs": [],
   "source": [
    "persepolis = '''47-72-124-110.dsl.dyn.ihug.co.nz:36225\n",
    "bas8-quebec14-1168083560.dsl.bell.ca:26281\n",
    "190.86.145.222:48916\n",
    "bl14-187-120.dsl.telepac.pt:26961\n",
    "95.130.9.161:51413\n",
    "ppp005055170049.access.hol.gr:24414\n",
    "60-241-250-92.static.tpgi.com.au:44993\n",
    "ppp-2-86-231-73.home.otenet.gr:47382\n",
    "Dynamic-IP-19014614186.cable.net.co:22426\n",
    "186.91.107.5:23660\n",
    "212.183.240.22.dyn.user.ono.com:62348\n",
    "73.249.222.129:55809\n",
    "96.239.26.90:40006\n",
    "89.233.179.67:52309\n",
    "212.117.161.4:51413\n",
    "93.103.41.36:57020'''\n",
    "\n",
    "persepolis = persepolis.replace('-','.')"
   ]
  },
  {
   "cell_type": "code",
   "execution_count": 7,
   "metadata": {
    "collapsed": false
   },
   "outputs": [
    {
     "data": {
      "text/plain": [
       "['73.174.7.63',\n",
       " '126.209.163.190',\n",
       " '186.59.149.134',\n",
       " '104.238.169.33',\n",
       " '8.81.57.97',\n",
       " '123.121.51.114',\n",
       " '190.142.98.27',\n",
       " '82.181.108.133',\n",
       " '60.240.117.114',\n",
       " '190.156.9.212',\n",
       " '98.108.202.147']"
      ]
     },
     "execution_count": 7,
     "metadata": {},
     "output_type": "execute_result"
    }
   ],
   "source": [
    "ip1 = (re.findall(r'\\b\\d{1,3}\\.\\d{1,3}\\.\\d{1,3}\\.\\d{1,3}\\b',deafheaven))\n",
    "illip1 = (re.findall(r'\\b\\d{1,3}\\-\\d{1,3}\\-\\d{1,3}\\-\\d{1,3}\\b',deafheaven))\n",
    "iplist1 = ip1 + illip1\n",
    "\n",
    "iplist1"
   ]
  },
  {
   "cell_type": "code",
   "execution_count": 8,
   "metadata": {
    "collapsed": true
   },
   "outputs": [],
   "source": [
    "jsonlist1 = []\n",
    "for x in iplist1:\n",
    "    r = requests.get('http://ipinfo.io/' + x)\n",
    "    json = r.json()\n",
    "    jsonlist1.append(json)"
   ]
  },
  {
   "cell_type": "markdown",
   "metadata": {},
   "source": [
    "# Bokeh Attempt"
   ]
  },
  {
   "cell_type": "code",
   "execution_count": 9,
   "metadata": {
    "collapsed": false
   },
   "outputs": [],
   "source": [
    "from __future__ import print_function\n",
    "\n",
    "from bokeh.document import Document\n",
    "from bokeh.embed import file_html\n",
    "from bokeh.models.glyphs import Circle\n",
    "from bokeh.models import (\n",
    "    GMapPlot, Range1d, ColumnDataSource, PanTool, WheelZoomTool, BoxSelectTool, GMapOptions)\n",
    "from bokeh.resources import INLINE\n",
    "\n",
    "import matplotlib.pyplot as plt"
   ]
  },
  {
   "cell_type": "code",
   "execution_count": 10,
   "metadata": {
    "collapsed": false
   },
   "outputs": [
    {
     "data": {
      "text/plain": [
       "<bokeh.models.map_plots.GMapPlot at 0x8b81518>"
      ]
     },
     "execution_count": 10,
     "metadata": {},
     "output_type": "execute_result"
    }
   ],
   "source": [
    "x_range = Range1d()\n",
    "y_range = Range1d()\n",
    "\n",
    "# JSON style string taken from: https://snazzymaps.com/style/1/pale-dawn\n",
    "map_options = GMapOptions(lat=30.2861, lng=-97.7394, map_type=\"roadmap\", zoom=13, styles=\"\"\"\n",
    "[{\"featureType\":\"administrative\",\"elementType\":\"all\",\"stylers\":[{\"visibility\":\"on\"},{\"lightness\":33}]},{\"featureType\":\"landscape\",\"elementType\":\"all\",\"stylers\":[{\"color\":\"#f2e5d4\"}]},{\"featureType\":\"poi.park\",\"elementType\":\"geometry\",\"stylers\":[{\"color\":\"#c5dac6\"}]},{\"featureType\":\"poi.park\",\"elementType\":\"labels\",\"stylers\":[{\"visibility\":\"on\"},{\"lightness\":20}]},{\"featureType\":\"road\",\"elementType\":\"all\",\"stylers\":[{\"lightness\":20}]},{\"featureType\":\"road.highway\",\"elementType\":\"geometry\",\"stylers\":[{\"color\":\"#c5c6c6\"}]},{\"featureType\":\"road.arterial\",\"elementType\":\"geometry\",\"stylers\":[{\"color\":\"#e4d7c6\"}]},{\"featureType\":\"road.local\",\"elementType\":\"geometry\",\"stylers\":[{\"color\":\"#fbfaf7\"}]},{\"featureType\":\"water\",\"elementType\":\"all\",\"stylers\":[{\"visibility\":\"on\"},{\"color\":\"#acbcc9\"}]}]\n",
    "\"\"\")\n",
    "\n",
    "plot = GMapPlot(\n",
    "    x_range=x_range, y_range=y_range,\n",
    "    map_options=map_options,\n",
    "    title=\"Austin\"\n",
    ")\n",
    "\n",
    "source = ColumnDataSource(\n",
    "    data=dict(\n",
    "        lat=[30.2861, 30.2855, 30.2869],\n",
    "        lon=[-97.7394, -97.7390, -97.7405],\n",
    "        fill=['orange', 'blue', 'green']\n",
    "    )\n",
    ")\n",
    "\n",
    "circle = Circle(x=\"lon\", y=\"lat\", size=15, fill_color=\"fill\", line_color=\"black\")\n",
    "plot.add_glyph(source, circle)\n",
    "\n",
    "plot"
   ]
  },
  {
   "cell_type": "code",
   "execution_count": 11,
   "metadata": {
    "collapsed": false
   },
   "outputs": [],
   "source": [
    "from bokeh.sampledata import us_states\n",
    "from bokeh.plotting import figure, show, output_file\n",
    "import pandas as pd\n",
    "\n",
    "usa_states = us_states.data.copy()\n",
    "state_xs = [usa_states[code][\"lons\"] for code in usa_states]\n",
    "state_ys = [usa_states[code][\"lats\"] for code in usa_states]"
   ]
  },
  {
   "cell_type": "markdown",
   "metadata": {},
   "source": [
    "# FOLIUM"
   ]
  },
  {
   "cell_type": "code",
   "execution_count": 12,
   "metadata": {
    "collapsed": true
   },
   "outputs": [],
   "source": [
    "import folium\n",
    "stamen = folium.Map(location=[45.5236, -122.6750], tiles='Stamen Toner',\n",
    "                    zoom_start=13)\n",
    "stamen.create_map(path='stamen_toner.html')"
   ]
  },
  {
   "cell_type": "code",
   "execution_count": 13,
   "metadata": {
    "collapsed": true
   },
   "outputs": [],
   "source": [
    "map_1 = folium.Map(zoom_start=5,\n",
    "                   tiles='Stamen Terrain')\n",
    "map_1.simple_marker([45.3288, -121.6625], popup='Mt. Hood Meadows')\n",
    "map_1.simple_marker([45.3311, -121.7113], popup='Timberline Lodge')\n",
    "map_1.create_map(path='mthood.html')"
   ]
  },
  {
   "cell_type": "code",
   "execution_count": 14,
   "metadata": {
    "collapsed": false
   },
   "outputs": [
    {
     "data": {
      "text/html": [
       "<div>\n",
       "<table border=\"1\" class=\"dataframe\">\n",
       "  <thead>\n",
       "    <tr style=\"text-align: right;\">\n",
       "      <th></th>\n",
       "      <th>0</th>\n",
       "      <th>1</th>\n",
       "    </tr>\n",
       "  </thead>\n",
       "  <tbody>\n",
       "    <tr>\n",
       "      <th>0</th>\n",
       "      <td>40.4681</td>\n",
       "      <td>-79.9114</td>\n",
       "    </tr>\n",
       "    <tr>\n",
       "      <th>1</th>\n",
       "      <td>35.6900</td>\n",
       "      <td>139.6900</td>\n",
       "    </tr>\n",
       "    <tr>\n",
       "      <th>2</th>\n",
       "      <td>-34.6033</td>\n",
       "      <td>-58.3817</td>\n",
       "    </tr>\n",
       "    <tr>\n",
       "      <th>3</th>\n",
       "      <td>51.5144</td>\n",
       "      <td>-0.0941</td>\n",
       "    </tr>\n",
       "    <tr>\n",
       "      <th>4</th>\n",
       "      <td>38.0000</td>\n",
       "      <td>-97.0000</td>\n",
       "    </tr>\n",
       "    <tr>\n",
       "      <th>5</th>\n",
       "      <td>39.9289</td>\n",
       "      <td>116.3883</td>\n",
       "    </tr>\n",
       "    <tr>\n",
       "      <th>6</th>\n",
       "      <td>10.0739</td>\n",
       "      <td>-69.3228</td>\n",
       "    </tr>\n",
       "    <tr>\n",
       "      <th>7</th>\n",
       "      <td>60.2257</td>\n",
       "      <td>24.8636</td>\n",
       "    </tr>\n",
       "    <tr>\n",
       "      <th>8</th>\n",
       "      <td>-37.7500</td>\n",
       "      <td>145.0667</td>\n",
       "    </tr>\n",
       "    <tr>\n",
       "      <th>9</th>\n",
       "      <td>4.6492</td>\n",
       "      <td>-74.0628</td>\n",
       "    </tr>\n",
       "    <tr>\n",
       "      <th>10</th>\n",
       "      <td>34.4540</td>\n",
       "      <td>-119.8005</td>\n",
       "    </tr>\n",
       "  </tbody>\n",
       "</table>\n",
       "</div>"
      ],
      "text/plain": [
       "           0          1\n",
       "0    40.4681   -79.9114\n",
       "1    35.6900   139.6900\n",
       "2   -34.6033   -58.3817\n",
       "3    51.5144    -0.0941\n",
       "4    38.0000   -97.0000\n",
       "5    39.9289   116.3883\n",
       "6    10.0739   -69.3228\n",
       "7    60.2257    24.8636\n",
       "8   -37.7500   145.0667\n",
       "9     4.6492   -74.0628\n",
       "10   34.4540  -119.8005"
      ]
     },
     "execution_count": 14,
     "metadata": {},
     "output_type": "execute_result"
    }
   ],
   "source": [
    "loclist = []\n",
    "for x in jsonlist1:\n",
    "    loclist.append(x['loc'].split(','))\n",
    "\n",
    "df = pd.DataFrame(loclist)\n",
    "df"
   ]
  },
  {
   "cell_type": "code",
   "execution_count": 15,
   "metadata": {
    "collapsed": false
   },
   "outputs": [
    {
     "name": "stdout",
     "output_type": "stream",
     "text": [
      "<class 'numpy.float64'>\n",
      "<class 'numpy.float64'>\n",
      "<class 'numpy.float64'>\n",
      "<class 'numpy.float64'>\n",
      "<class 'numpy.float64'>\n",
      "<class 'numpy.float64'>\n",
      "<class 'numpy.float64'>\n",
      "<class 'numpy.float64'>\n",
      "<class 'numpy.float64'>\n",
      "<class 'numpy.float64'>\n",
      "<class 'numpy.float64'>\n"
     ]
    }
   ],
   "source": [
    "df = df.astype(float)\n",
    "for x in df[0]:\n",
    "    print (type(x))"
   ]
  },
  {
   "cell_type": "code",
   "execution_count": 16,
   "metadata": {
    "collapsed": true
   },
   "outputs": [],
   "source": [
    "from IPython.display import HTML\n",
    "import folium\n",
    " \n",
    "def inline_map(map):\n",
    "    \"\"\"\n",
    "    Embeds the HTML source of the map directly into the IPython notebook.\n",
    "    \n",
    "    This method will not work if the map depends on any files (json data). Also this uses\n",
    "    the HTML5 srcdoc attribute, which may not be supported in all browsers.\n",
    "    \"\"\"\n",
    "    map._build_map()\n",
    "    return HTML('<iframe srcdoc=\"{srcdoc}\" style=\"width: 100%; height: 510px; border: none\"></iframe>'.format(srcdoc=map.HTML.replace('\"', '&quot;')))\n",
    " \n",
    "def embed_map(map, path=\"map.html\"):\n",
    "    \"\"\"\n",
    "    Embeds a linked iframe to the map into the IPython notebook.\n",
    "    \n",
    "    Note: this method will not capture the source of the map into the notebook.\n",
    "    This method should work for all maps (as long as they use relative urls).\n",
    "    \"\"\"\n",
    "    map.create_map(path=path)\n",
    "    return HTML('<iframe src=\"files/{path}\" style=\"width: 100%; height: 510px; border: none\"></iframe>'.format(path=path))"
   ]
  },
  {
   "cell_type": "code",
   "execution_count": 17,
   "metadata": {
    "collapsed": false
   },
   "outputs": [
    {
     "data": {
      "text/html": [
       "<iframe src=\"files/map.html\" style=\"width: 100%; height: 510px; border: none\"></iframe>"
      ],
      "text/plain": [
       "<IPython.core.display.HTML object>"
      ]
     },
     "execution_count": 17,
     "metadata": {},
     "output_type": "execute_result"
    }
   ],
   "source": [
    "lat=df[0].mean()\n",
    "lon=df[1].mean()\n",
    "\n",
    "fmap=folium.Map(zoom_start=9)\n",
    "\n",
    "def plotmarker(row):\n",
    "    fmap.simple_marker( [row[0], row[1]] )\n",
    "    \n",
    "df.apply(plotmarker, axis=1)\n",
    "inline_map(fmap)\n",
    "embed_map(fmap)"
   ]
  },
  {
   "cell_type": "code",
   "execution_count": null,
   "metadata": {
    "collapsed": true
   },
   "outputs": [],
   "source": []
  }
 ],
 "metadata": {
  "kernelspec": {
   "display_name": "Python 3",
   "language": "python",
   "name": "python3"
  },
  "language_info": {
   "codemirror_mode": {
    "name": "ipython",
    "version": 3
   },
   "file_extension": ".py",
   "mimetype": "text/x-python",
   "name": "python",
   "nbconvert_exporter": "python",
   "pygments_lexer": "ipython3",
   "version": "3.4.3"
  }
 },
 "nbformat": 4,
 "nbformat_minor": 0
}
